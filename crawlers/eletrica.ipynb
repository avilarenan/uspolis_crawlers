{
 "cells": [
  {
   "cell_type": "code",
   "execution_count": 1,
   "metadata": {},
   "outputs": [],
   "source": [
    "from eletrica_crawler import generate_eletrica_classes_file\n",
    "from datetime import date\n",
    "\n",
    "BUILDING = \"eletrica\"\n",
    "\n",
    "start_date = date(2023, 8, 6)\n",
    "end_date = date(2023, 8, 12)"
   ]
  },
  {
   "cell_type": "code",
   "execution_count": 2,
   "metadata": {},
   "outputs": [
    {
     "name": "stdout",
     "output_type": "stream",
     "text": [
      "No match: Seminário Células Solares\n",
      "No match: Nilton Morimoto\n",
      "No match: Defesa mestrado\n",
      "No match: Platão de Dúvidas - PTC3213\n",
      "No match: Seminário Células Solares\n",
      "list index out of range\n",
      "PTC3441\n",
      "list index out of range\n",
      "PTC3569\n",
      "list index out of range\n",
      "PTC3467\n",
      "list index out of range\n",
      "PEA5756\n",
      "list index out of range\n",
      "PTC3575\n",
      "list index out of range\n",
      "PTC5880\n",
      "list index out of range\n",
      "PEA5740\n",
      "list index out of range\n",
      "PSI5120\n",
      "list index out of range\n",
      "PTC2020\n",
      "list index out of range\n",
      "PTC3441\n",
      "list index out of range\n",
      "PSI3452\n",
      "list index out of range\n",
      "PTC3569\n",
      "list index out of range\n",
      "PSI5740\n",
      "list index out of range\n",
      "PEA5831\n",
      "list index out of range\n",
      "PTC3575\n",
      "list index out of range\n",
      "PEA5730\n"
     ]
    }
   ],
   "source": [
    "df = generate_eletrica_classes_file(start_date, end_date, BUILDING)"
   ]
  },
  {
   "cell_type": "code",
   "execution_count": 3,
   "metadata": {},
   "outputs": [],
   "source": [
    "df.to_csv(\"eletrica_ingestion_file.csv\", index=False)"
   ]
  }
 ],
 "metadata": {
  "kernelspec": {
   "display_name": "Python 3",
   "language": "python",
   "name": "python3"
  },
  "language_info": {
   "codemirror_mode": {
    "name": "ipython",
    "version": 3
   },
   "file_extension": ".py",
   "mimetype": "text/x-python",
   "name": "python",
   "nbconvert_exporter": "python",
   "pygments_lexer": "ipython3",
   "version": "3.8.10"
  },
  "orig_nbformat": 4
 },
 "nbformat": 4,
 "nbformat_minor": 2
}
